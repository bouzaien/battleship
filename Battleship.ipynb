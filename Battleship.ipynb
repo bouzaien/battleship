{
 "cells": [
  {
   "cell_type": "markdown",
   "metadata": {},
   "source": [
    "I have mainly made this notebook to explain different parts of the code I have developped and to include some visualizations of use case examples."
   ]
  },
  {
   "cell_type": "markdown",
   "metadata": {},
   "source": [
    "# What is Battleship Game?"
   ]
  },
  {
   "cell_type": "markdown",
   "metadata": {},
   "source": [
    "Battleship is a strategy game for two players. Each player owns many ships, tries to guess the positions of the opponent ones and destroy them by choosing the cells to hit one by one. The objective of the game is to destroy the opposing player's ships."
   ]
  },
  {
   "cell_type": "markdown",
   "metadata": {},
   "source": [
    "<center><img src=\"images/Battleship_game_board.png\" width=\"360\" height=\"360\"><br>\n",
    "Figure 1: Battleship board. Fired cell are crossed and ships are represented by grey cells.</center>"
   ]
  },
  {
   "cell_type": "markdown",
   "metadata": {},
   "source": [
    "# What is this implementation about?\n",
    "I have developped a script for this game, which can be used in two different ways. The first one consistes of playing the game and the second use case is to generate data related to the game progress. I will explain in more details the 2 use cases.\n",
    "## Playing or Simulating the Game\n",
    "This part consists of playing against the computer. Two ships are randomly placed in a field and a human user has to find the ships positions after a minimum number of guess. Another game mode consists of simulating and visualizing a game where the computer has also to destroy randomly placed ships.\n",
    "## Genarating Data\n",
    "This use case consists of generating and prepare data which can be used as a machine learning model. The main idea of this part is to simulate many games and save the state set of each one as well as the output of each action, i.e., whether it was a good move or not."
   ]
  },
  {
   "cell_type": "markdown",
   "metadata": {},
   "source": [
    "# Code Design and Classes"
   ]
  },
  {
   "cell_type": "markdown",
   "metadata": {},
   "source": [
    "## Design"
   ]
  },
  {
   "cell_type": "markdown",
   "metadata": {},
   "source": [
    "As we can see in the `tree` function output, there are two main directoris: `src` which contains the main program implementation and `tests` for testing functionalities. The `images` directory is used for the images used in this notebook."
   ]
  },
  {
   "cell_type": "code",
   "execution_count": 12,
   "metadata": {},
   "outputs": [
    {
     "name": "stdout",
     "output_type": "stream",
     "text": [
      "\u001b[01;34m.\u001b[00m\n",
      "├── \u001b[01;34mimages\u001b[00m\n",
      "│   └── \u001b[01;35mBattleship_game_board.png\u001b[00m\n",
      "├── \u001b[01;34msrc\u001b[00m\n",
      "│   ├── \u001b[01;34m__pycache__\u001b[00m\n",
      "│   └── Battleship.py\n",
      "├── \u001b[01;34mtests\u001b[00m\n",
      "└── Battleship.ipynb\n",
      "\n",
      "4 directories, 3 files\n"
     ]
    }
   ],
   "source": [
    "! tree --dirsfirst -L 2"
   ]
  },
  {
   "cell_type": "markdown",
   "metadata": {},
   "source": [
    "## Classes"
   ]
  },
  {
   "cell_type": "markdown",
   "metadata": {},
   "source": [
    "Le me describe at a high level the implemented classes from general to specific. The `Battleship` class represents the main game instance. It initializes and updates all the game parameters and object such as the field, the number and positions of the ships, etc. This class can be used to play or simulate games, as well as generate data and show game-related visualizations. The second class is `Field` which represents the grid that will be used for the game. It contains `Ship` instances and composed of `Cell`'s."
   ]
  },
  {
   "cell_type": "markdown",
   "metadata": {},
   "source": [
    "# Game Initialization\n",
    "When creating a `Battleship` instance, a field is initialized with the size parameter given (default is $10\\times10$), then the ships are created and randomply placed in the fields. Ships can only be vertical or horizontal, and can't be superposed (i.e., have common cells). For each ship, one initial cell is randomly chosen from the free cells of the field. Then a random direction is picked (e.g., for verical orientation, $+1$ is buttom and $-1$ is up). Finally, if the ship is inside the field it's placed otherwise the direction is changed."
   ]
  },
  {
   "cell_type": "code",
   "execution_count": 3,
   "metadata": {},
   "outputs": [],
   "source": [
    "# imports\n",
    "from src.Battleship import *\n",
    "\n",
    "%matplotlib inline"
   ]
  },
  {
   "cell_type": "code",
   "execution_count": 4,
   "metadata": {},
   "outputs": [
    {
     "data": {
      "image/png": "[encoded data removed]",
      "text/plain": [
       "<Figure size 432x288 with 2 Axes>"
      ]
     },
     "metadata": {
      "needs_background": "light"
     },
     "output_type": "display_data"
    }
   ],
   "source": [
    "# create a Battleship instance and show the ships\n",
    "bs = Battleship()\n",
    "\n",
    "f, axarr = plt.subplots(1, 2, sharex=True, sharey=True)\n",
    "axarr[0].set_title(\"Ships\")\n",
    "axarr[1].set_title(\"Fired Positions\")\n",
    "for ax in axarr:\n",
    "    ax.set(adjustable='box', aspect='equal')\n",
    "bs.showState(f, axarr)"
   ]
  },
  {
   "cell_type": "markdown",
   "metadata": {},
   "source": [
    "# Game Process"
   ]
  },
  {
   "cell_type": "markdown",
   "metadata": {},
   "source": [
    "Let's try to fire some cells and show the results. We will fire one random free cell and one random cell occupied by a ship."
   ]
  },
  {
   "cell_type": "code",
   "execution_count": 5,
   "metadata": {},
   "outputs": [
    {
     "data": {
      "image/png": "[encoded data removed]",
      "text/plain": [
       "<Figure size 432x288 with 2 Axes>"
      ]
     },
     "metadata": {
      "needs_background": "light"
     },
     "output_type": "display_data"
    },
    {
     "name": "stdout",
     "output_type": "stream",
     "text": [
      "Now the fire count is 2.\n"
     ]
    }
   ],
   "source": [
    "free_cell = random.choice(bs.field.free_cells)\n",
    "occupied_cell = random.choice(bs.field.occupied_cells)\n",
    "\n",
    "bs.fireCell(free_cell)\n",
    "bs.fireCell(occupied_cell)\n",
    "\n",
    "bs.showState(f=None, axarr=None)\n",
    "print(\"Now the fire count is {}.\".format(bs.fire_count))"
   ]
  },
  {
   "cell_type": "markdown",
   "metadata": {},
   "source": [
    "As we can see, the occupied cell is now fired and shown in different color so the player know that there is a ship out there. This process is repeated while playing or simulating a game until all the ships are destroyed."
   ]
  },
  {
   "cell_type": "code",
   "execution_count": null,
   "metadata": {},
   "outputs": [],
   "source": []
  }
 ],
 "metadata": {
  "kernelspec": {
   "display_name": "Python 3",
   "language": "python",
   "name": "python3"
  },
  "language_info": {
   "codemirror_mode": {
    "name": "ipython",
    "version": 3
   },
   "file_extension": ".py",
   "mimetype": "text/x-python",
   "name": "python",
   "nbconvert_exporter": "python",
   "pygments_lexer": "ipython3",
   "version": "3.8.5"
  }
 },
 "nbformat": 4,
 "nbformat_minor": 4
}

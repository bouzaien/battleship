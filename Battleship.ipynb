{
 "cells": [
  {
   "cell_type": "markdown",
   "metadata": {},
   "source": [
    "I have mainly made this notebook to explain different parts of the code I have developped and to include some visualizations of use case examples."
   ]
  },
  {
   "cell_type": "markdown",
   "metadata": {},
   "source": [
    "# What is Battleship Game?"
   ]
  },
  {
   "cell_type": "markdown",
   "metadata": {},
   "source": [
    "Battleship is a strategy game for two players. Each player owns many ships, tries to guess the positions of the opponent ones and destroy them by choosing the cells to hit one by one. The objective of the game is to destroy the opposing player's ships."
   ]
  },
  {
   "cell_type": "markdown",
   "metadata": {},
   "source": [
    "<center><img src=\"images/Battleship_game_board.png\" width=\"360\" height=\"360\"><br>\n",
    "figure</center>"
   ]
  },
  {
   "cell_type": "markdown",
   "metadata": {},
   "source": [
    "# What is this implementation about?\n",
    "I have developped a script for this game, which can be used in two different ways. The first one consistes of playing the game and the second use case is to generate data related to the game progress. I will explain in more details the 2 use cases.\n",
    "## Playing or Simulating the Game\n",
    "This part consists of playing against the computer. Two ships are randomly placed in a field and a human user has to find the ships positions after a minimum number of guess. Another game mode consists of simulating and visualizing a game where the computer has also to destroy randomly placed ships.\n",
    "## Genarating Data\n",
    "This use case consists of generating and prepare data which can be used as a machine learning model. The main idea of this part is to simulate many games and save the state set of each one as well as the output of each action, i.e., whether it was a good move or not."
   ]
  },
  {
   "cell_type": "markdown",
   "metadata": {},
   "source": [
    "# Code Design and Classes"
   ]
  },
  {
   "cell_type": "markdown",
   "metadata": {},
   "source": [
    "## Design"
   ]
  },
  {
   "cell_type": "markdown",
   "metadata": {},
   "source": [
    "As we can see in the `tree` functon output, there are two main directoris: `src` which contains the main program implementation and `tests` for testing functionalities. The `images` directory is used for the images used in this notebook."
   ]
  },
  {
   "cell_type": "code",
   "execution_count": 12,
   "metadata": {},
   "outputs": [
    {
     "name": "stdout",
     "output_type": "stream",
     "text": [
      "\u001b[01;34m.\u001b[00m\n",
      "├── \u001b[01;34mimages\u001b[00m\n",
      "│   └── \u001b[01;35mBattleship_game_board.png\u001b[00m\n",
      "├── \u001b[01;34msrc\u001b[00m\n",
      "│   ├── \u001b[01;34m__pycache__\u001b[00m\n",
      "│   └── Battleship.py\n",
      "├── \u001b[01;34mtests\u001b[00m\n",
      "└── Battleship.ipynb\n",
      "\n",
      "4 directories, 3 files\n"
     ]
    }
   ],
   "source": [
    "! tree --dirsfirst -L 2"
   ]
  },
  {
   "cell_type": "markdown",
   "metadata": {},
   "source": [
    "## Classes"
   ]
  },
  {
   "cell_type": "markdown",
   "metadata": {},
   "source": [
    "Le me describe at a high level the implemented classes from general to specific. The `Battleship` class represents the main game instance. It initializes and updates all the game parameters and object such as the field, the number and positions of the ships, etc. This class can be used to play or simulate games, as well as generate data and show game-related visualizations.\n",
    "\n",
    "The second class is `Field` which represents the grid that will be used for the game. It contains `Ship` instances and composed of `Cell`'s.\n",
    "\n",
    "When creating a `Battleship` instance, a field is initialized, then the ships are created and randomply placed in the fields. Ships can be vertical or horizontal, and can't be superposed. "
   ]
  },
  {
   "cell_type": "code",
   "execution_count": 13,
   "metadata": {},
   "outputs": [],
   "source": [
    "from src.Battleship import *"
   ]
  },
  {
   "cell_type": "code",
   "execution_count": 20,
   "metadata": {},
   "outputs": [
    {
     "data": {
      "image/png": "[encoded data removed]",
      "text/plain": [
       "<Figure size 432x288 with 1 Axes>"
      ]
     },
     "metadata": {
      "needs_background": "light"
     },
     "output_type": "display_data"
    }
   ],
   "source": [
    "bs = Battleship()\n",
    "bs.showShips()"
   ]
  },
  {
   "cell_type": "code",
   "execution_count": 23,
   "metadata": {},
   "outputs": [
    {
     "data": {
      "image/png": "[encoded data removed]",
      "text/plain": [
       "<Figure size 432x288 with 2 Axes>"
      ]
     },
     "metadata": {
      "needs_background": "light"
     },
     "output_type": "display_data"
    }
   ],
   "source": [
    "f, axarr = plt.subplots(1, 2, sharex=True, sharey=True)\n",
    "for ax in axarr:\n",
    "    ax.set(adjustable='box', aspect='equal')\n",
    "bs.showState(f, axarr)"
   ]
  },
  {
   "cell_type": "code",
   "execution_count": null,
   "metadata": {},
   "outputs": [],
   "source": []
  }
 ],
 "metadata": {
  "kernelspec": {
   "display_name": "Python 3",
   "language": "python",
   "name": "python3"
  },
  "language_info": {
   "codemirror_mode": {
    "name": "ipython",
    "version": 3
   },
   "file_extension": ".py",
   "mimetype": "text/x-python",
   "name": "python",
   "nbconvert_exporter": "python",
   "pygments_lexer": "ipython3",
   "version": "3.8.5"
  }
 },
 "nbformat": 4,
 "nbformat_minor": 4
}
